{
 "cells": [
  {
   "cell_type": "code",
   "execution_count": null,
   "id": "3511597b",
   "metadata": {},
   "outputs": [],
   "source": [
    "### IMPORTS\n",
    "import pandas as pd\n",
    "import os"
   ]
  },
  {
   "cell_type": "code",
   "execution_count": null,
   "id": "96c94425",
   "metadata": {},
   "outputs": [],
   "source": [
    "### load beatmaps, user_random_df and user_top_df rest on demand because memory. \n",
    "# Define the base data directory\n",
    "data_dir = os.path.join(\"data\", \"processed\")\n",
    "beatmaps_path = os.path.join(data_dir, \"beatmaps.csv\")\n",
    "\n",
    "beatmaps_df = pd.read_csv(beatmaps_path)\n",
    "user_random_path = os.path.join(data_dir, \"random_10000__users.csv\")\n",
    "user_random_df = pd.read_csv(user_random_path)\n",
    "user_top_path = os.path.join(data_dir, \"top_10000__users.csv\")\n",
    "user_top_df = pd.read_csv(user_top_path)\n",
    "\n",
    "print(\"Initial datasets loaded into memory. Remaining data should be loaded on demand.\")"
   ]
  },
  {
   "cell_type": "markdown",
   "id": "a948d653",
   "metadata": {},
   "source": [
    "### USER ANALYSIS"
   ]
  },
  {
   "cell_type": "markdown",
   "id": "a6b98e54",
   "metadata": {},
   "source": [
    "\n",
    "Sonja\n",
    "#### 1. playtime distribution 2 densitiy curves. on x \"density on y\" one line for random_users one line for top_users"
   ]
  },
  {
   "cell_type": "markdown",
   "id": "4b76a6fc",
   "metadata": {},
   "source": [
    "Sonja\n",
    "2D Plot: (Nebeneinader Top user und Random)\n",
    "top 10 Länder as Kreise, Kreis Größe ist Anzahl \n",
    "Y: rank\n",
    "X: total_seconds"
   ]
  },
  {
   "cell_type": "markdown",
   "id": "6111d03e",
   "metadata": {},
   "source": [
    "Matteo\n",
    "#### Farm vs. Recrational metric plotten irgendwie\n",
    "wenn möglich."
   ]
  },
  {
   "cell_type": "markdown",
   "id": "e1674cf6",
   "metadata": {},
   "source": [
    "Matteo\n",
    "#### Limits in phyisically challenging beatmap features.\n",
    "wenn möglich"
   ]
  },
  {
   "cell_type": "markdown",
   "id": "8921d8e8",
   "metadata": {},
   "source": [
    "### BEATMAP ANALYSIS\n"
   ]
  },
  {
   "cell_type": "markdown",
   "id": "72831671",
   "metadata": {},
   "source": [
    "Sonja\n",
    "#### 1. Long tail of beatmaps (beatmap_id not mod_beatmap_id) distribution of playcount"
   ]
  },
  {
   "cell_type": "markdown",
   "id": "368e2b64",
   "metadata": {},
   "source": [
    "Sonja\n",
    "#### 2. beatmaps anzahl über Zeit. "
   ]
  },
  {
   "cell_type": "markdown",
   "id": "13979bc7",
   "metadata": {},
   "source": []
  },
  {
   "cell_type": "markdown",
   "id": "bceedae7",
   "metadata": {},
   "source": [
    "Matteo\n",
    "#### 2. Map Archetype Sketch. \n",
    "3D plot plotting beatmaps along the 3 dimensions: speed, aim, technicality(combination of slider_factor and failrate maybe or something similar), and color of points should be scaled along diffstart rating.\n",
    "Assumption: Patterns will emerge. "
   ]
  },
  {
   "cell_type": "markdown",
   "id": "fcee31dc",
   "metadata": {},
   "source": [
    "Matteo\n",
    "#### how extreme values in \"constraint features\" reduce players. "
   ]
  },
  {
   "cell_type": "markdown",
   "id": "82b49330",
   "metadata": {},
   "source": [
    "### SCORE ANALYSIS "
   ]
  },
  {
   "cell_type": "markdown",
   "id": "cba559c2",
   "metadata": {},
   "source": [
    "Sonja \n",
    "# features where formulas changed over time: \n",
    "- pp (Variance über Jahre innerhalb Intervalle.)  Anfang intervall - EnderIntervall Änderung des Durchschnitt\n",
    "- diff_star_rating"
   ]
  }
 ],
 "metadata": {
  "language_info": {
   "name": "python"
  }
 },
 "nbformat": 4,
 "nbformat_minor": 5
}
