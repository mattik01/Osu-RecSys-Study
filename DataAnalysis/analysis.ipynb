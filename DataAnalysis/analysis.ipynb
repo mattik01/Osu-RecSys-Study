{
 "cells": [
  {
   "cell_type": "code",
   "execution_count": null,
   "id": "3511597b",
   "metadata": {},
   "outputs": [],
   "source": [
    "### IMPORTS\n",
    "import pandas as pd\n",
    "import os"
   ]
  },
  {
   "cell_type": "code",
   "execution_count": null,
   "id": "96c94425",
   "metadata": {},
   "outputs": [],
   "source": [
    "### load beatmaps, user_random_df and user_top_df rest on demand because memory. \n",
    "# Define the base data directory\n",
    "data_dir = os.path.join(\"data\", \"processed\")\n",
    "beatmaps_path = os.path.join(data_dir, \"beatmaps.csv\")\n",
    "\n",
    "beatmaps_df = pd.read_csv(beatmaps_path)\n",
    "user_random_path = os.path.join(data_dir, \"random_10000__users.csv\")\n",
    "user_random_df = pd.read_csv(user_random_path)\n",
    "user_top_path = os.path.join(data_dir, \"top_10000__users.csv\")\n",
    "user_top_df = pd.read_csv(user_top_path)\n",
    "\n",
    "print(\"Initial datasets loaded into memory. Remaining data should be loaded on demand.\")"
   ]
  },
  {
   "cell_type": "markdown",
   "id": "a948d653",
   "metadata": {},
   "source": [
    "### USER ANALYSIS"
   ]
  },
  {
   "cell_type": "markdown",
   "id": "a6b98e54",
   "metadata": {},
   "source": [
    "##### 1. playtime distribution 2 densitiy curves. on x playtime on y playt"
   ]
  },
  {
   "cell_type": "markdown",
   "id": "4b76a6fc",
   "metadata": {},
   "source": []
  },
  {
   "cell_type": "markdown",
   "id": "8921d8e8",
   "metadata": {},
   "source": []
  },
  {
   "cell_type": "markdown",
   "id": "72831671",
   "metadata": {},
   "source": []
  },
  {
   "cell_type": "markdown",
   "id": "bceedae7",
   "metadata": {},
   "source": []
  }
 ],
 "metadata": {
  "language_info": {
   "name": "python"
  }
 },
 "nbformat": 4,
 "nbformat_minor": 5
}
